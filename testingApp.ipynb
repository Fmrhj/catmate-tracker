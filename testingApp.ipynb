{
 "cells": [
  {
   "cell_type": "code",
   "execution_count": 1,
   "metadata": {},
   "outputs": [],
   "source": [
    "import pandas as pd\n",
    "from datetime import datetime\n",
    "from datetime import timedelta\n",
    "import numpy as np\n",
    "import sqlite3\n",
    "import plotly.graph_objects as go"
   ]
  },
  {
   "cell_type": "code",
   "execution_count": 2,
   "metadata": {},
   "outputs": [],
   "source": [
    "import sqlalchemy as db\n",
    "\n",
    "# Create databse. This commenad creates catmeals.sqlite automatically\n",
    "engine = db.create_engine('sqlite:///catmeals.sqlite') \n",
    "connection = engine.connect()\n",
    "metadata = db.MetaData()\n",
    "\n",
    "# Create db model\n",
    "cat_meals_dbTable = db.Table('emp', metadata,\n",
    "                             db.Column('Id', db.Integer()),\n",
    "                             db.Column('time_stamp', db.DateTime(), nullable=False),\n",
    "                             db.Column('next_meals', db.DateTime(), nullable=False),\n",
    "                             db.Column('remaining_meals', db.Integer()))\n",
    "               \n",
    "# Creates the table\n",
    "metadata.create_all(engine)"
   ]
  },
  {
   "cell_type": "code",
   "execution_count": null,
   "metadata": {},
   "outputs": [],
   "source": [
    "# Open connection\n",
    "con = sqlite3.connect(\"catmeals.sqlite\")\n",
    "\n",
    "# Write results \n",
    "a.to_sql(\"cat_meals\", con, if_exists = \"append\")\n",
    "\n",
    "# Close connection\n",
    "con.close()"
   ]
  },
  {
   "cell_type": "code",
   "execution_count": null,
   "metadata": {},
   "outputs": [],
   "source": [
    "x = input(\"Catmate filled?: (Y|n) \")"
   ]
  },
  {
   "cell_type": "code",
   "execution_count": 3,
   "metadata": {},
   "outputs": [],
   "source": [
    "standard_date_format = \"%Y-%m-%d %H:%M:%S\"\n",
    "\n",
    "def perdelta(start, end, delta):\n",
    "    # generates a range of dates separated with start and end dates and a delta\n",
    "    curr = start\n",
    "    while curr < end:\n",
    "        yield curr\n",
    "        curr += delta\n",
    "\n",
    "def nearest(items, pivot):\n",
    "    # calculates the nearest item in a list from a pivot item\n",
    "    return min(items, key=lambda x: abs(x - pivot))\n",
    "        \n",
    "\"\"\" Function to fill a table with future meal time stamps\n",
    "Args: \n",
    "    time_stamp_now (datetime)\n",
    "\n",
    "Returns:\n",
    "    list: with date for next meals\n",
    "\"\"\"\n",
    "def generateNextMeals(time_stamp_now = datetime.now()): \n",
    "    today_evening = datetime.strptime(time_stamp_now.strftime(\"%Y-%m-%d\") + \" 19:00:00\", standard_date_format)\n",
    "    today_morning = datetime.strptime(time_stamp_now.strftime(\"%Y-%m-%d\") + \" 07:00:00\", standard_date_format)\n",
    "\n",
    "    # Assign next meal to next following date\n",
    "    if(today_evening > time_stamp_now):\n",
    "        next_meal = today_evening\n",
    "    else:\n",
    "        next_meal = today_morning\n",
    "    \n",
    "    # Generate following meals for the next days. \n",
    "    # Our catmate is programmed to rotate every 12 hours with 4 slots = 2 days\n",
    "    date_list = []\n",
    "    for date_item in perdelta(next_meal, next_meal+timedelta(days=2), timedelta(days=0.5)):\n",
    "        date_list.append(date_item)\n",
    "        \n",
    "    return(date_list)\n",
    "\n",
    "    \n",
    "\"\"\" Function to retrieve how many meals are left\n",
    "Args:\n",
    "    meals_table (DataFrame)\n",
    "\n",
    "Returns:\n",
    "    remaining_meals (int) \n",
    "\"\"\"\n",
    "def calculateRemainingMeals(meals_table):\n",
    "    b = a[a.next_meals == nearest(a['next_meals'], datetime.now())][['remaining_meals']]\n",
    "    return(b.remaining_meals)"
   ]
  },
  {
   "cell_type": "code",
   "execution_count": 4,
   "metadata": {},
   "outputs": [
    {
     "name": "stdout",
     "output_type": "stream",
     "text": [
      "            time_stamp          next_meals  remaining_meals\n",
      "0  2020-02-29 18:12:42 2020-02-29 19:00:00              4.0\n",
      "1  2020-02-29 18:12:42 2020-03-01 07:00:00              3.0\n",
      "2  2020-02-29 18:12:42 2020-03-01 19:00:00              2.0\n",
      "3  2020-02-29 18:12:42 2020-03-02 07:00:00              1.0\n"
     ]
    },
    {
     "data": {
      "text/plain": [
       "0    4.0\n",
       "Name: remaining_meals, dtype: float64"
      ]
     },
     "execution_count": 4,
     "metadata": {},
     "output_type": "execute_result"
    }
   ],
   "source": [
    "timeStamp = datetime.now()\n",
    "a = {'time_stamp':timeStamp.strftime(standard_date_format),\n",
    "      'next_meals': generateNextMeals(timeStamp), \n",
    "      'remaining_meals': np.linspace(start=4, stop=1, num=4)}\n",
    "a = pd.DataFrame(a)\n",
    "print(a)\n",
    "    \n",
    "calculateRemainingMeals(a)"
   ]
  },
  {
   "cell_type": "code",
   "execution_count": null,
   "metadata": {
    "scrolled": true
   },
   "outputs": [],
   "source": [
    "fig = go.Figure()\n",
    "fig.add_trace(go.Scatter(x=a['next_meals'], \n",
    "                         y=a['remaining_meals'],\n",
    "                         name=\"Remaining cat meals\",\n",
    "                         line_color='deepskyblue',\n",
    "                         opacity=0.8,\n",
    "                         marker = dict(size = 20,\n",
    "                                      color=[4, 3, 2, 1],\n",
    "                                       colorscale='Greens'),\n",
    "                         mode='markers'\n",
    "                        ))\n",
    "\n",
    "\n",
    "fig.update_layout(xaxis_range=[datetime.now() - timedelta(days=1),\n",
    "                               datetime.now() + timedelta(days=1)],\n",
    "                 title_text=\"\", \n",
    "                 xaxis_rangeslider_visible=True,\n",
    "                  template = \"plotly_dark\")\n",
    "fig.show()"
   ]
  },
  {
   "cell_type": "code",
   "execution_count": 5,
   "metadata": {},
   "outputs": [],
   "source": [
    "def get_data(db_uri):\n",
    "    engine = db.create_engine(db_uri, echo=False)\n",
    "    sql_df = pd.read_sql(\"SELECT * FROM cat_meals\", con=engine)\n",
    "    sql_df = sql_df.drop('index', axis=1)\n",
    "    # Check the time format\n",
    "    print(\"[STATUS] Actual future meal records:\")\n",
    "    print(sql_df)\n",
    "    return sql_df"
   ]
  },
  {
   "cell_type": "code",
   "execution_count": 6,
   "metadata": {},
   "outputs": [],
   "source": [
    "db_uri = \"sqlite:///catmeals.sqlite\"\n"
   ]
  },
  {
   "cell_type": "code",
   "execution_count": 7,
   "metadata": {},
   "outputs": [
    {
     "name": "stdout",
     "output_type": "stream",
     "text": [
      "[STATUS] Actual future meal records:\n",
      "            time_stamp           next_meals  remaining_meals\n",
      "0  2020-02-29 21:12:44  2020-03-01 07:00:00              4.0\n",
      "1  2020-02-29 21:12:44  2020-03-01 19:00:00              3.0\n",
      "2  2020-02-29 21:12:44  2020-03-02 07:00:00              2.0\n",
      "3  2020-02-29 21:12:44  2020-03-02 19:00:00              1.0\n"
     ]
    }
   ],
   "source": [
    " tmp_check = get_data(db_uri)"
   ]
  },
  {
   "cell_type": "code",
   "execution_count": 22,
   "metadata": {},
   "outputs": [],
   "source": [
    "last_value = tmp_check['time_stamp'][0]"
   ]
  },
  {
   "cell_type": "code",
   "execution_count": 29,
   "metadata": {},
   "outputs": [
    {
     "ename": "ModuleNotFoundError",
     "evalue": "No module named 'deltatime'",
     "output_type": "error",
     "traceback": [
      "\u001b[0;31m---------------------------------------------------------------------------\u001b[0m",
      "\u001b[0;31mModuleNotFoundError\u001b[0m                       Traceback (most recent call last)",
      "\u001b[0;32m<ipython-input-29-4850b7da5bcc>\u001b[0m in \u001b[0;36m<module>\u001b[0;34m\u001b[0m\n\u001b[1;32m      1\u001b[0m \u001b[0mstandard_date_format\u001b[0m \u001b[0;34m=\u001b[0m \u001b[0;34m\"%Y-%m-%d %H:%M:%S\"\u001b[0m\u001b[0;34m\u001b[0m\u001b[0;34m\u001b[0m\u001b[0m\n\u001b[1;32m      2\u001b[0m \u001b[0mdatetime\u001b[0m\u001b[0;34m.\u001b[0m\u001b[0mnow\u001b[0m\u001b[0;34m(\u001b[0m\u001b[0;34m)\u001b[0m \u001b[0;34m-\u001b[0m \u001b[0mdatetime\u001b[0m\u001b[0;34m.\u001b[0m\u001b[0mstrptime\u001b[0m\u001b[0;34m(\u001b[0m\u001b[0mlast_value\u001b[0m\u001b[0;34m,\u001b[0m \u001b[0mstandard_date_format\u001b[0m\u001b[0;34m)\u001b[0m\u001b[0;34m\u001b[0m\u001b[0;34m\u001b[0m\u001b[0m\n\u001b[0;32m----> 3\u001b[0;31m \u001b[0;32mimport\u001b[0m \u001b[0mdeltatime\u001b[0m\u001b[0;34m\u001b[0m\u001b[0;34m\u001b[0m\u001b[0m\n\u001b[0m",
      "\u001b[0;31mModuleNotFoundError\u001b[0m: No module named 'deltatime'"
     ]
    }
   ],
   "source": [
    "standard_date_format = \"%Y-%m-%d %H:%M:%S\"\n",
    "datetime.now() - datetime.strptime(last_value, standard_date_format)\n",
    "import deltatime"
   ]
  },
  {
   "cell_type": "code",
   "execution_count": 32,
   "metadata": {},
   "outputs": [
    {
     "data": {
      "text/plain": [
       "True"
      ]
     },
     "execution_count": 32,
     "metadata": {},
     "output_type": "execute_result"
    }
   ],
   "source": [
    "datetime.now() < datetime.strptime(last_value, standard_date_format) + timedelta(hours = 2)"
   ]
  },
  {
   "cell_type": "code",
   "execution_count": 27,
   "metadata": {},
   "outputs": [
    {
     "ename": "TypeError",
     "evalue": "'>' not supported between instances of 'datetime.timedelta' and 'int'",
     "output_type": "error",
     "traceback": [
      "\u001b[0;31m---------------------------------------------------------------------------\u001b[0m",
      "\u001b[0;31mTypeError\u001b[0m                                 Traceback (most recent call last)",
      "\u001b[0;32m<ipython-input-27-4c1b54334990>\u001b[0m in \u001b[0;36m<module>\u001b[0;34m\u001b[0m\n\u001b[0;32m----> 1\u001b[0;31m \u001b[0mb\u001b[0m \u001b[0;34m>\u001b[0m \u001b[0;36m1\u001b[0m\u001b[0;34m\u001b[0m\u001b[0;34m\u001b[0m\u001b[0m\n\u001b[0m",
      "\u001b[0;31mTypeError\u001b[0m: '>' not supported between instances of 'datetime.timedelta' and 'int'"
     ]
    }
   ],
   "source": []
  }
 ],
 "metadata": {
  "kernelspec": {
   "display_name": "Python 3",
   "language": "python",
   "name": "python3"
  },
  "language_info": {
   "codemirror_mode": {
    "name": "ipython",
    "version": 3
   },
   "file_extension": ".py",
   "mimetype": "text/x-python",
   "name": "python",
   "nbconvert_exporter": "python",
   "pygments_lexer": "ipython3",
   "version": "3.8.1"
  }
 },
 "nbformat": 4,
 "nbformat_minor": 2
}
